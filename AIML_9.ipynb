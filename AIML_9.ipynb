{
  "nbformat": 4,
  "nbformat_minor": 0,
  "metadata": {
    "colab": {
      "provenance": [],
      "authorship_tag": "ABX9TyMemRBqaz8eMpfWwun7TBVa",
      "include_colab_link": true
    },
    "kernelspec": {
      "name": "python3",
      "display_name": "Python 3"
    },
    "language_info": {
      "name": "python"
    }
  },
  "cells": [
    {
      "cell_type": "markdown",
      "metadata": {
        "id": "view-in-github",
        "colab_type": "text"
      },
      "source": [
        "<a href=\"https://colab.research.google.com/github/Haripriya-AIML/Priya/blob/main/AIML_9.ipynb\" target=\"_parent\"><img src=\"https://colab.research.google.com/assets/colab-badge.svg\" alt=\"Open In Colab\"/></a>"
      ]
    },
    {
      "cell_type": "code",
      "execution_count": null,
      "metadata": {
        "id": "E1-BZKDEZNbq"
      },
      "outputs": [],
      "source": []
    },
    {
      "cell_type": "markdown",
      "source": [
        "1 Implement Random Forest Ensemble Model using Lending Data\n",
        "1 { Import the required Python, Pandas, Matplotlib, Seaborn packages. [CO1]\n",
        "Problem: Lending Club connects people who need money (borrowers) with people who have\n",
        "money (investors). We try to create a model to predict the risk of lending money to someone\n",
        "given a wide range of credit related data. We will use lending data from 2007-2010 and\n",
        "predict whether or not the borrower would be able to pay back their loan in full\n",
        "or not.\n",
        "• Features: credit.policy:,int.rate:, installment:,log.annual.inc:, dti:, fico:,\n",
        "days.with.cr.line:, revol.bal:,revol.util:\n",
        "• 13 features are taken into account to decide whether to lend the money to the borrower\n",
        "or not."
      ],
      "metadata": {
        "id": "__6fQYYrZTaZ"
      }
    },
    {
      "cell_type": "code",
      "source": [],
      "metadata": {
        "id": "P_MQGMpZZcy-"
      },
      "execution_count": null,
      "outputs": []
    }
  ]
}