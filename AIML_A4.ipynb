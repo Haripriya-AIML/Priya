{
  "nbformat": 4,
  "nbformat_minor": 0,
  "metadata": {
    "colab": {
      "provenance": [],
      "authorship_tag": "ABX9TyOxhKGHI669SBPIJaVKOz4i",
      "include_colab_link": true
    },
    "kernelspec": {
      "name": "python3",
      "display_name": "Python 3"
    },
    "language_info": {
      "name": "python"
    }
  },
  "cells": [
    {
      "cell_type": "markdown",
      "metadata": {
        "id": "view-in-github",
        "colab_type": "text"
      },
      "source": [
        "<a href=\"https://colab.research.google.com/github/Haripriya-AIML/Priya/blob/main/AIML_A4.ipynb\" target=\"_parent\"><img src=\"https://colab.research.google.com/assets/colab-badge.svg\" alt=\"Open In Colab\"/></a>"
      ]
    },
    {
      "cell_type": "markdown",
      "source": [
        "1 Implement Linear Regression Model Using US Housing Data\n",
        "Part 1 - Import the required Python, Pandas, Matplotlib, Seaborn packages.\n",
        "[CO2]\n",
        "1. Load the US Housing data into a dataframe using pandas\n",
        "2. Check the data types of each feature(column) in the dataset.\n",
        "3. Generate a summary of the dataset for min, max, stddev,\n",
        "quartile vales for 25%,50%,75%,90%,\n",
        "4. List the names of columns/features in the dataset\n",
        "5. Generate a pairplot of the features of the dataset.\n",
        "6. Generate a correlation matrix and heatmap for the features\n",
        "7. Create a list of dependent variable to independent variables to understand regression\n",
        "among the features. From the data include Price to other numerical variables of the\n",
        "Housing data."
      ],
      "metadata": {
        "id": "V_2wkR_XIeAz"
      }
    },
    {
      "cell_type": "code",
      "execution_count": null,
      "metadata": {
        "id": "1jyhnnmrH-fU"
      },
      "outputs": [],
      "source": []
    }
  ]
}