{
  "nbformat": 4,
  "nbformat_minor": 0,
  "metadata": {
    "colab": {
      "provenance": [],
      "authorship_tag": "ABX9TyP2oYkchcF/Q//Qtv78xMKR",
      "include_colab_link": true
    },
    "kernelspec": {
      "name": "python3",
      "display_name": "Python 3"
    },
    "language_info": {
      "name": "python"
    }
  },
  "cells": [
    {
      "cell_type": "markdown",
      "metadata": {
        "id": "view-in-github",
        "colab_type": "text"
      },
      "source": [
        "<a href=\"https://colab.research.google.com/github/Haripriya-AIML/Priya/blob/main/AIML_A5.ipynb\" target=\"_parent\"><img src=\"https://colab.research.google.com/assets/colab-badge.svg\" alt=\"Open In Colab\"/></a>"
      ]
    },
    {
      "cell_type": "markdown",
      "source": [
        "Implement Logistic Regression Model Using Titanic Ship Dataset"
      ],
      "metadata": {
        "id": "nhQ9K5MgOuVH"
      }
    },
    {
      "cell_type": "markdown",
      "source": [
        "Part 1 - Import the required Python, Pandas, Matplotlib, Seaborn packages.\n",
        "[CO2]\n",
        "1. Load the Titanic Ship Passengers dataset into a dataframe using pandas\n",
        "2. Check the data types of each feature(column) in the dataset.\n",
        "3. Generate a summary of the dataset for min, max, stddev,\n",
        "quartile vales for 25%,50%,75%,90%,\n",
        "4. List the names of columns/features in the dataset\n",
        "5. Perform Exploratory analysis - plot numeric features, check relative size of survived/un-\n",
        "survived, check if any pattern on gender. passenger class, class-wise survival rate, sibil-\n",
        "ings, overall age distribution, class-wise age distribution - apply bar plot, histogram,\n",
        "box plots to visualize.\n",
        "6. Perform data wrangling - impute age data, drop unnecessary features, recode the cate-\n",
        "gorical features to a class"
      ],
      "metadata": {
        "id": "rZ7VUoLaO-gu"
      }
    },
    {
      "cell_type": "code",
      "execution_count": null,
      "metadata": {
        "id": "Gd31VC5oOblH"
      },
      "outputs": [],
      "source": []
    }
  ]
}