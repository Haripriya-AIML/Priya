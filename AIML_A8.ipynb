{
  "nbformat": 4,
  "nbformat_minor": 0,
  "metadata": {
    "colab": {
      "provenance": [],
      "authorship_tag": "ABX9TyPGx/o6ZQxAYDTzlxXygssp",
      "include_colab_link": true
    },
    "kernelspec": {
      "name": "python3",
      "display_name": "Python 3"
    },
    "language_info": {
      "name": "python"
    }
  },
  "cells": [
    {
      "cell_type": "markdown",
      "metadata": {
        "id": "view-in-github",
        "colab_type": "text"
      },
      "source": [
        "<a href=\"https://colab.research.google.com/github/Haripriya-AIML/Priya/blob/main/AIML_A8.ipynb\" target=\"_parent\"><img src=\"https://colab.research.google.com/assets/colab-badge.svg\" alt=\"Open In Colab\"/></a>"
      ]
    },
    {
      "cell_type": "markdown",
      "source": [
        "Implement Decision Tree Classiffcation using OpenML Car Dataset"
      ],
      "metadata": {
        "id": "4qNWGFkCPYZk"
      }
    },
    {
      "cell_type": "markdown",
      "source": [
        "In machine learning, decision trees are supervised learning models with associated learning\n",
        "algorithms that analyze data used for classiffcation.\n",
        "Let's say that you want to make a decision of the car to buy. In order to get the right car\n",
        "to buy, you could go on and evaluate the level of the safety, the number of sits and doors by\n",
        "asking series of if like questions."
      ],
      "metadata": {
        "id": "a8UeSYPpPtwh"
      }
    },
    {
      "cell_type": "markdown",
      "source": [
        "1. Import the Libraries required for Decision Tree. [CO1]\n",
        "Import all libraries required along with visualization to completed the task on DT"
      ],
      "metadata": {
        "id": "M7oslGadP2bP"
      }
    },
    {
      "cell_type": "code",
      "source": [],
      "metadata": {
        "id": "PjnCanDzPsso"
      },
      "execution_count": null,
      "outputs": []
    }
  ]
}