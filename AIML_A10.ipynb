{
  "nbformat": 4,
  "nbformat_minor": 0,
  "metadata": {
    "colab": {
      "provenance": [],
      "authorship_tag": "ABX9TyP0xX0EVL5czTgFydSdMjVt",
      "include_colab_link": true
    },
    "kernelspec": {
      "name": "python3",
      "display_name": "Python 3"
    },
    "language_info": {
      "name": "python"
    }
  },
  "cells": [
    {
      "cell_type": "markdown",
      "metadata": {
        "id": "view-in-github",
        "colab_type": "text"
      },
      "source": [
        "<a href=\"https://colab.research.google.com/github/Haripriya-AIML/Priya/blob/main/AIML_A10.ipynb\" target=\"_parent\"><img src=\"https://colab.research.google.com/assets/colab-badge.svg\" alt=\"Open In Colab\"/></a>"
      ]
    },
    {
      "cell_type": "markdown",
      "source": [
        "1 Implement K-Means Clustering using Synthetic Data"
      ],
      "metadata": {
        "id": "O2Ksn-_gbfMn"
      }
    },
    {
      "cell_type": "markdown",
      "source": [
        "1 { Import the required Python, Pandas, Matplotlib, Seaborn packages. [CO1]\n",
        "Problem: you have a multidimensional set of data (such as a set of hidden unit activations)\n",
        "and you want to see which points are closest to others. The k-means algorithm searches\n",
        "for a pre-determined number of clusters within an unlabeled multidimensional dataset. It\n",
        "accomplishes this using a simple conception of what the optimal clustering looks like:\n",
        "• The \"cluster center\" is the arithmetic mean of all the points belonging to the cluster.\n",
        "• Each point is closer to its own cluster center than to other cluster centers."
      ],
      "metadata": {
        "id": "ifpfvrDwb6jX"
      }
    },
    {
      "cell_type": "code",
      "source": [],
      "metadata": {
        "id": "ZqXOYQBkcBSB"
      },
      "execution_count": null,
      "outputs": []
    },
    {
      "cell_type": "code",
      "execution_count": null,
      "metadata": {
        "id": "QCjq1MuMbd6W"
      },
      "outputs": [],
      "source": []
    }
  ]
}